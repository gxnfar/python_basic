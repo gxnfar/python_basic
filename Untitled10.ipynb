{
 "cells": [
  {
   "cell_type": "code",
   "execution_count": 3,
   "id": "f408f389",
   "metadata": {},
   "outputs": [
    {
     "name": "stdout",
     "output_type": "stream",
     "text": [
      "enter your percentage:50\n",
      "fail ;-D\n"
     ]
    }
   ],
   "source": [
    "percentage=int(input(\"enter your percentage:\"))\n",
    "if percentage >100:\n",
    "    print (\"wrong entry\")\n",
    "elif percentage >= 90:\n",
    "    print(\"A+\")\n",
    "elif percentage >= 80:\n",
    "    print(\"B\")\n",
    "elif percentage >= 70:\n",
    "    print(\"c\")\n",
    "elif percentage >= 60:\n",
    "    print(\"D\")\n",
    "elif percentage <= 50:\n",
    "    print(\"fail ;-D\")"
   ]
  },
  {
   "cell_type": "code",
   "execution_count": null,
   "id": "98923d4f",
   "metadata": {},
   "outputs": [
    {
     "name": "stdout",
     "output_type": "stream",
     "text": [
      "three different entry6 6 6 6\\\n"
     ]
    }
   ],
   "source": [
    "num1,num2,num3 = int(input(\"three different entry\")).split()\n",
    "if num1<num2<num3:\n",
    "    print(\"smallest\")\n",
    "if num2<num1<num3:\n",
    "    print(\"smallest\")"
   ]
  },
  {
   "cell_type": "code",
   "execution_count": null,
   "id": "5ae37d41",
   "metadata": {},
   "outputs": [],
   "source": [
    "loops"
   ]
  }
 ],
 "metadata": {
  "kernelspec": {
   "display_name": "Python 3 (ipykernel)",
   "language": "python",
   "name": "python3"
  },
  "language_info": {
   "codemirror_mode": {
    "name": "ipython",
    "version": 3
   },
   "file_extension": ".py",
   "mimetype": "text/x-python",
   "name": "python",
   "nbconvert_exporter": "python",
   "pygments_lexer": "ipython3",
   "version": "3.10.9"
  }
 },
 "nbformat": 4,
 "nbformat_minor": 5
}
